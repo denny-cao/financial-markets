{
 "cells": [
  {
   "cell_type": "markdown",
   "metadata": {},
   "source": [
    "# Performance Measures"
   ]
  },
  {
   "cell_type": "markdown",
   "metadata": {},
   "source": [
    "## For each hedge fund style — and using Python— calculate and interpret the following performance measures:\n",
    "(i) annualized arithmetic average return;\n",
    "\n",
    "(ii) annualized geometric average return;\n",
    "\n",
    "(iii) annualized volatility of excess returns;\n",
    "\n",
    "(iv) annualized Sharpe ratio;\n",
    "\n",
    "(v) market beta;\n",
    "\n",
    "(vi) annualized alpha to the market;\n",
    "\n",
    "(vii) annualized information ratio;\n",
    "\n",
    "(viii) maximum drawdown;\n",
    "\n",
    "(ix) skewness of monthly excess returns;\n",
    "\n",
    "(x) excess kurtosis of monthly excess returns"
   ]
  },
  {
   "cell_type": "code",
   "execution_count": 51,
   "metadata": {},
   "outputs": [],
   "source": [
    "import numpy as np\n",
    "import matplotlib.pyplot as plt\n",
    "import pandas as pd\n",
    "import scipy as sp"
   ]
  },
  {
   "cell_type": "code",
   "execution_count": 52,
   "metadata": {},
   "outputs": [],
   "source": [
    "def annualized_arithmetic_average_return(returns):\n",
    "    \"\"\"\n",
    "    Simple average of return annualized \n",
    "    \"\"\"\n",
    "\n",
    "    arithmetic_average_return = np.mean(returns)\n",
    "    return arithmetic_average_return * 12\n",
    "\n",
    "def annualized_geometric_average_return(returns):\n",
    "    \"\"\"\n",
    "    Average of return accounting for compounding \n",
    "    \"\"\"\n",
    "\n",
    "    geometric_average = np.prod(1 + returns)\n",
    "    return geometric_average ** (12 / len(returns)) - 1\n",
    "\n",
    "def annualized_volatility_excess_returns(excess_returns):\n",
    "    \"\"\"\n",
    "    Riskiness of the fund relative to the risk-free rate\n",
    "    \"\"\"\n",
    "\n",
    "    return np.sqrt(12) * np.std(excess_returns)\n",
    "\n",
    "def annualized_sharpe_ratio(excess_returns):\n",
    "    \"\"\"\n",
    "    Sharpe Ratio tells us how much excess return we are getting for the risk we are taking on (1 is good performance, 0 is poor)\n",
    "    \"\"\"\n",
    "\n",
    "    average_excess_return = np.mean(excess_returns)\n",
    "    excess_return_standard_deviation = np.std(excess_returns)\n",
    "\n",
    "    sharpe_ratio = average_excess_return / excess_return_standard_deviation\n",
    "    return (12 ** 0.5) * sharpe_ratio\n",
    "\n",
    "def market_beta(fund_excess_returns, market_excess_returns):\n",
    "    \"\"\"\n",
    "    Indicates fund's sensitivity to market movements (Greater than 1: More volatile than market, less than 1: Less volatile)\n",
    "    \"\"\"\n",
    "\n",
    "    covariance = np.cov(fund_excess_returns, market_excess_returns)[0][1] \n",
    "    market_variance = np.var(market_excess_returns)\n",
    "\n",
    "    return covariance / market_variance\n",
    "\n",
    "def annualized_alpha_to_market(fund_excess_returns, market_excess_returns):\n",
    "    \"\"\"\n",
    "    Performance of the fund relative to the market on risk-adjusted basis (Positive alpha: Outperforming the market, Negative alpha: Underperforming the market)\n",
    "    \"\"\"\n",
    "\n",
    "    fund_average_excess_return = np.mean(fund_excess_returns)\n",
    "    market_average_excess_return = np.mean(market_excess_returns)\n",
    "\n",
    "    beta = market_beta(fund_excess_returns, market_excess_returns)\n",
    "    alpha = fund_average_excess_return - beta * market_average_excess_return\n",
    "\n",
    "    return alpha * 12\n",
    "\n",
    "def annualized_information_ratio(fund_excess_returns, market_excess_returns):\n",
    "    \"\"\"\n",
    "    Information Ratio = Average Relative Return/Tracking Error\n",
    "    Annualized Information Ratio = SQRT (Number of Time Units Per Year/Number of Time Units Per Sub Period) X Information Ratio\n",
    "    \"\"\"\n",
    "\n",
    "    fund_relative_return = fund_excess_returns - market_excess_returns\n",
    "    average_fund_relative_return = np.mean(fund_relative_return)\n",
    "\n",
    "    tracking_error = fund_relative_return.std()\n",
    "\n",
    "    return (12 ** 0.5) * average_fund_relative_return / tracking_error\n",
    "\n",
    "def max_drawdown(fund_excess_returns):\n",
    "    \"\"\"\n",
    "    Max Drawdown = Max (Peak Value - Trough Value) / Peak Value\n",
    "    \"\"\"\n",
    "\n",
    "    max_drawdown = 0\n",
    "    peak_value = 1\n",
    "    cumulative_return = 1\n",
    "\n",
    "    for hedge_fund_return in fund_excess_returns:\n",
    "        cumulative_return *= 1 + hedge_fund_return\n",
    "        peak_value = max(peak_value, cumulative_return)\n",
    "        drawdown = (peak_value - cumulative_return) / peak_value\n",
    "        max_drawdown = max(max_drawdown, drawdown)\n",
    "\n",
    "    return max_drawdown\n",
    "\n",
    "def skewness_monthly_excess_returns(fund_excess_returns):\n",
    "    return sp.stats.skew(fund_excess_returns)\n",
    "\n",
    "def excess_kurtosis_monthly_excess_returns(fund_excess_returns):\n",
    "    \"\"\"\n",
    "    Excess Kurtosis = Kurtosis - 3\n",
    "    \"\"\"\n",
    "    kurtosis = sp.stats.kurtosis(fund_excess_returns)\n",
    "\n",
    "    return kurtosis - 3"
   ]
  },
  {
   "cell_type": "code",
   "execution_count": 53,
   "metadata": {},
   "outputs": [
    {
     "name": "stdout",
     "output_type": "stream",
     "text": [
      "0.031548890993556636\n",
      "0.04726077175344033\n",
      "0.09162264819354143\n",
      "0.04812050144312389\n",
      "0.060526425079624024\n",
      "0.04065677964638914\n",
      "0.03706946085272336\n",
      "0.042881950665416634\n",
      "0.04378216532721323\n",
      "0.03729274871087129\n"
     ]
    }
   ],
   "source": [
    "data = pd.read_excel('data/Performance_Measurement_Spreadsheet.xlsx')\n",
    "\n",
    "hedge_funds = ['Ln/Sh Eq Hedge Fund USD', 'Eq Mkt Ntr Hedge Fund USD', 'Ded Sh Bs Hedge Fund USD', 'Global Mac Hedge Fund USD', 'Mngd Fut Hedge Fund USD', 'Emg Mkts Hedge Fund USD', 'Evnt Drvn Hedge Fund USD', 'Cnvrt Arb Hedge Fund USD', 'Fx Inc Arb Hedge Fund USD', 'DJCS Hedge Fund USD']\n",
    "market_excess_returns = data['Mkt-RF']\n",
    "risk_free_rates = data['RF']\n",
    "\n",
    "df = pd.DataFrame()\n",
    "\n",
    "for hedge_fund in hedge_funds:\n",
    "    hedge_fund_returns = data[hedge_fund]\n",
    "    hedge_fund_excess_returns = hedge_fund_returns - risk_free_rates\n",
    "\n",
    "    df[hedge_fund] = [annualized_arithmetic_average_return(hedge_fund_returns), \n",
    "                      annualized_geometric_average_return(hedge_fund_returns), \n",
    "                      annualized_volatility_excess_returns(hedge_fund_excess_returns),\n",
    "                      annualized_sharpe_ratio(hedge_fund_excess_returns),\n",
    "                      market_beta(hedge_fund_excess_returns, market_excess_returns),\n",
    "                      annualized_alpha_to_market(hedge_fund_excess_returns, market_excess_returns),\n",
    "                      annualized_information_ratio(hedge_fund_excess_returns, market_excess_returns),\n",
    "                      max_drawdown(hedge_fund_returns), \n",
    "                      skewness_monthly_excess_returns(hedge_fund_excess_returns),\n",
    "                      excess_kurtosis_monthly_excess_returns(hedge_fund_excess_returns)]\n",
    "\n",
    "df.index = ['Annualized Arithmetic Average Return', 'Annualized Geometric Average Return', 'Annualized Volatility of Excess Returns', 'Annualized Sharpe Ratio', 'Market Beta', 'Annualized Alpha to Market', 'Annualized Information Ratio', 'Max Drawdown', 'Skewness of Monthly Excess Returns', 'Excess Kurtosis of Monthly Excess Returns']\n",
    "\n",
    "# Export to Excel\n",
    "df.to_excel('output/performance_metrics.xlsx')"
   ]
  },
  {
   "cell_type": "markdown",
   "metadata": {},
   "source": [
    "# Make the following plots for Global Mac Hedge Fund USD: (i) cumulative return; and (ii) drawdown."
   ]
  },
  {
   "cell_type": "code",
   "execution_count": 54,
   "metadata": {},
   "outputs": [
    {
     "data": {
      "image/png": "[encoded data removed]",
      "text/plain": [
       "<Figure size 640x480 with 1 Axes>"
      ]
     },
     "metadata": {},
     "output_type": "display_data"
    }
   ],
   "source": [
    "def cumulative_returns(hedge_fund_returns):\n",
    "    return (1 + hedge_fund_returns).cumprod()\n",
    "\n",
    "fund = 'Global Mac Hedge Fund USD'\n",
    "hedge_fund_returns = data[fund]\n",
    "\n",
    "cumulative_returns = cumulative_returns(hedge_fund_returns)\n",
    "plt.plot(cumulative_returns)\n",
    "\n",
    "plt.title(f\"{fund} Cumulative Returns\")\n",
    "plt.xlabel('Months')\n",
    "plt.ylabel('Cumulative Returns')\n",
    "plt.show()\n"
   ]
  },
  {
   "cell_type": "code",
   "execution_count": 55,
   "metadata": {},
   "outputs": [
    {
     "data": {
      "image/png": "[encoded data removed]",
      "text/plain": [
       "<Figure size 640x480 with 1 Axes>"
      ]
     },
     "metadata": {},
     "output_type": "display_data"
    }
   ],
   "source": [
    "cumulative_max = cumulative_returns.cummax()\n",
    "drawdown = (cumulative_returns - cumulative_max) / cumulative_max\n",
    "plt.plot(drawdown)\n",
    "plt.title(f\"{fund} Drawdown\")\n",
    "plt.xlabel('Months')\n",
    "plt.ylabel('Drawdown')\n",
    "plt.show()"
   ]
  },
  {
   "cell_type": "markdown",
   "metadata": {},
   "source": [
    "# Factor Models"
   ]
  },
  {
   "cell_type": "markdown",
   "metadata": {},
   "source": [
    "For Ln/Sh Eq Hedge Fund USD, run two regressions: (i) a univariate regression of the\n",
    "hedge fund index’s excess return on market excess return (i.e., CAPM), and (ii) a\n",
    "multivariate regression on the market, size, value, and momentum factors (i.e., Carhart\n",
    "four-factor). Interpret the loadings on the different factors. What do we learn about this\n",
    "investment style?"
   ]
  },
  {
   "cell_type": "code",
   "execution_count": 56,
   "metadata": {},
   "outputs": [
    {
     "name": "stdout",
     "output_type": "stream",
     "text": [
      "Ln/Sh Eq Hedge Fund USD Alpha: 0.0026598783659129497, Beta: 0.4596677500455535\n"
     ]
    },
    {
     "name": "stderr",
     "output_type": "stream",
     "text": [
      "/var/folders/3_/5yqvf0js6kn57hkj_5zvnlf40000gn/T/ipykernel_62056/2797689806.py:11: FutureWarning: Series.__getitem__ treating keys as positions is deprecated. In a future version, integer keys will always be treated as labels (consistent with DataFrame behavior). To access a value by position, use `ser.iloc[pos]`\n",
      "  return model.params[0], model.params[1]\n"
     ]
    }
   ],
   "source": [
    "import statsmodels.api as sm\n",
    "\n",
    "def CAPM(hedge_fund_excess_returns, market_excess_returns):\n",
    "    X = market_excess_returns\n",
    "    y = hedge_fund_excess_returns\n",
    "\n",
    "    X = sm.add_constant(X)\n",
    "\n",
    "    model = sm.OLS(y, X).fit()\n",
    "\n",
    "    return model.params[0], model.params[1]\n",
    "\n",
    "fund = 'Ln/Sh Eq Hedge Fund USD'\n",
    "hedge_fund_returns = data[fund]\n",
    "market_returns = data['Mkt-RF']\n",
    "risk_free_rates = data['RF']\n",
    "hedge_fund_excess_returns = hedge_fund_returns - risk_free_rates\n",
    "\n",
    "results = CAPM(hedge_fund_excess_returns, market_returns)\n",
    "\n",
    "print(f\"{fund} Alpha: {results[0]}, Beta: {results[1]}\")"
   ]
  },
  {
   "cell_type": "code",
   "execution_count": 57,
   "metadata": {},
   "outputs": [
    {
     "name": "stdout",
     "output_type": "stream",
     "text": [
      "Ln/Sh Eq Hedge Fund USD Alpha: 0.0016064684798429332, Beta: 0.46772159981135925, SMB: 0.17716745349182897, HML: -0.08262057971914881, UMD: 0.16637585402436691\n"
     ]
    },
    {
     "name": "stderr",
     "output_type": "stream",
     "text": [
      "/var/folders/3_/5yqvf0js6kn57hkj_5zvnlf40000gn/T/ipykernel_62056/2056698210.py:9: FutureWarning: Series.__getitem__ treating keys as positions is deprecated. In a future version, integer keys will always be treated as labels (consistent with DataFrame behavior). To access a value by position, use `ser.iloc[pos]`\n",
      "  return model.params[0], model.params[1], model.params[2], model.params[3], model.params[4]\n"
     ]
    }
   ],
   "source": [
    "def Carhart_4_factor(hedge_fund_excess_returns, market_excess_returns, SMB, HML, UMD):\n",
    "    X = pd.DataFrame({'Market Excess Returns': market_excess_returns, 'SMB': SMB, 'HML': HML, 'UMD': UMD})\n",
    "    y = hedge_fund_excess_returns\n",
    "\n",
    "    X = sm.add_constant(X)\n",
    "\n",
    "    model = sm.OLS(y, X).fit()\n",
    "\n",
    "    return model.params[0], model.params[1], model.params[2], model.params[3], model.params[4]\n",
    "\n",
    "fund = 'Ln/Sh Eq Hedge Fund USD'\n",
    "hedge_fund_returns = data[fund]\n",
    "market_returns = data['Mkt-RF']\n",
    "risk_free_rates = data['RF']\n",
    "hedge_fund_excess_returns = hedge_fund_returns - risk_free_rates\n",
    "SMB = data['SMB']\n",
    "HML = data['HML']\n",
    "UMD = data['UMD']\n",
    "\n",
    "results = Carhart_4_factor(hedge_fund_excess_returns, market_returns, SMB, HML, UMD)\n",
    "\n",
    "print(f\"{fund} Alpha: {results[0]}, Beta: {results[1]}, SMB: {results[2]}, HML: {results[3]}, UMD: {results[4]}\")"
   ]
  },
  {
   "cell_type": "markdown",
   "metadata": {},
   "source": [
    "Repeat the regressions in II.A for Ded Sh Bs Hedge Fund USD. Are these loadings\n",
    "different from Ln/Sh Eq Hedge Fund USD? If yes, what do these loadings say about the\n",
    "investment strategies between these two funds?"
   ]
  },
  {
   "cell_type": "code",
   "execution_count": 58,
   "metadata": {},
   "outputs": [
    {
     "name": "stdout",
     "output_type": "stream",
     "text": [
      "Ded Sh Bs Hedge Fund USD Alpha: -0.00039484323676367776, Beta: -0.8565652055227198\n"
     ]
    },
    {
     "name": "stderr",
     "output_type": "stream",
     "text": [
      "/var/folders/3_/5yqvf0js6kn57hkj_5zvnlf40000gn/T/ipykernel_62056/2797689806.py:11: FutureWarning: Series.__getitem__ treating keys as positions is deprecated. In a future version, integer keys will always be treated as labels (consistent with DataFrame behavior). To access a value by position, use `ser.iloc[pos]`\n",
      "  return model.params[0], model.params[1]\n"
     ]
    }
   ],
   "source": [
    "fund = 'Ded Sh Bs Hedge Fund USD'\n",
    "hedge_fund_returns = data[fund]\n",
    "market_returns = data['Mkt-RF']\n",
    "risk_free_rates = data['RF']\n",
    "hedge_fund_excess_returns = hedge_fund_returns - risk_free_rates\n",
    "\n",
    "results = CAPM(hedge_fund_excess_returns, market_returns)\n",
    "\n",
    "print(f\"{fund} Alpha: {results[0]}, Beta: {results[1]}\")"
   ]
  },
  {
   "cell_type": "code",
   "execution_count": 59,
   "metadata": {},
   "outputs": [
    {
     "name": "stdout",
     "output_type": "stream",
     "text": [
      "Ded Sh Bs Hedge Fund USD Alpha: -0.0004142454695830809, Beta: -0.7850597388009416, SMB: -0.27694039228736983, HML: 0.13565711077408346, UMD: -0.009491832282023818\n"
     ]
    },
    {
     "name": "stderr",
     "output_type": "stream",
     "text": [
      "/var/folders/3_/5yqvf0js6kn57hkj_5zvnlf40000gn/T/ipykernel_62056/2056698210.py:9: FutureWarning: Series.__getitem__ treating keys as positions is deprecated. In a future version, integer keys will always be treated as labels (consistent with DataFrame behavior). To access a value by position, use `ser.iloc[pos]`\n",
      "  return model.params[0], model.params[1], model.params[2], model.params[3], model.params[4]\n"
     ]
    }
   ],
   "source": [
    "fund = 'Ded Sh Bs Hedge Fund USD'\n",
    "hedge_fund_returns = data[fund]\n",
    "market_returns = data['Mkt-RF']\n",
    "risk_free_rates = data['RF']\n",
    "hedge_fund_excess_returns = hedge_fund_returns - risk_free_rates\n",
    "SMB = data['SMB']\n",
    "HML = data['HML']\n",
    "UMD = data['UMD']\n",
    "\n",
    "results = Carhart_4_factor(hedge_fund_excess_returns, market_returns, SMB, HML, UMD)\n",
    "\n",
    "print(f\"{fund} Alpha: {results[0]}, Beta: {results[1]}, SMB: {results[2]}, HML: {results[3]}, UMD: {results[4]}\")"
   ]
  },
  {
   "cell_type": "markdown",
   "metadata": {},
   "source": [
    "# Illiquidity and Stale Prices"
   ]
  },
  {
   "cell_type": "markdown",
   "metadata": {},
   "source": [
    "Using excess returns on Cnvrt Arb Hedge Fund USD, compare:\n",
    "\n",
    "(i) the beta in a monthly univariate regression on the market’s excess return;\n",
    "\n",
    "(ii) the beta in a univariate regression on the market using 3-month excess returns;\n",
    "\n",
    "(iii) the sum of betas in a monthly regression on the market, the 1-month lagged market, and the 2-month lagged market (all excess returns).\n",
    "\n",
    "Note: To compute 3-month excess returns in a simplified way, add three monthly\n",
    "excess returns. The regression coefficients can still be estimated by running the\n",
    "regression monthly (i.e., with overlapping data), but, in this case, t-statistics need to be\n",
    "adjusted if you were to consider these"
   ]
  },
  {
   "cell_type": "code",
   "execution_count": 60,
   "metadata": {},
   "outputs": [
    {
     "name": "stdout",
     "output_type": "stream",
     "text": [
      "Ln/Sh Eq Hedge Fund USD Beta: 0.4596677500455535\n"
     ]
    },
    {
     "name": "stderr",
     "output_type": "stream",
     "text": [
      "/var/folders/3_/5yqvf0js6kn57hkj_5zvnlf40000gn/T/ipykernel_62056/2797689806.py:11: FutureWarning: Series.__getitem__ treating keys as positions is deprecated. In a future version, integer keys will always be treated as labels (consistent with DataFrame behavior). To access a value by position, use `ser.iloc[pos]`\n",
      "  return model.params[0], model.params[1]\n"
     ]
    }
   ],
   "source": [
    "fund = 'Ln/Sh Eq Hedge Fund USD'\n",
    "hedge_fund_returns = data[fund] - data['RF']\n",
    "market_returns = data['Mkt-RF']\n",
    "risk_free_rates = data['RF']\n",
    "\n",
    "results = CAPM(hedge_fund_returns, market_returns)\n",
    "print(f\"{fund} Beta: {results[1]}\")"
   ]
  },
  {
   "cell_type": "code",
   "execution_count": 61,
   "metadata": {},
   "outputs": [
    {
     "name": "stdout",
     "output_type": "stream",
     "text": [
      "Ln/Sh Eq Hedge Fund USD Beta: 0.5099406731100637\n"
     ]
    },
    {
     "name": "stderr",
     "output_type": "stream",
     "text": [
      "/var/folders/3_/5yqvf0js6kn57hkj_5zvnlf40000gn/T/ipykernel_62056/2797689806.py:11: FutureWarning: Series.__getitem__ treating keys as positions is deprecated. In a future version, integer keys will always be treated as labels (consistent with DataFrame behavior). To access a value by position, use `ser.iloc[pos]`\n",
      "  return model.params[0], model.params[1]\n"
     ]
    }
   ],
   "source": [
    "fund = 'Ln/Sh Eq Hedge Fund USD'\n",
    "hedge_fund_returns = (data[fund] - data['RF']).rolling(window=3).sum().dropna()\n",
    "market_returns = data['Mkt-RF'].rolling(window=3).sum().dropna()\n",
    "\n",
    "results = CAPM(hedge_fund_returns, market_returns)\n",
    "print(f\"{fund} Beta: {results[1]}\")"
   ]
  }
 ],
 "metadata": {
  "kernelspec": {
   "display_name": "financial-markets",
   "language": "python",
   "name": "python3"
  },
  "language_info": {
   "codemirror_mode": {
    "name": "ipython",
    "version": 3
   },
   "file_extension": ".py",
   "mimetype": "text/x-python",
   "name": "python",
   "nbconvert_exporter": "python",
   "pygments_lexer": "ipython3",
   "version": "3.11.9"
  }
 },
 "nbformat": 4,
 "nbformat_minor": 2
}
